{
 "cells": [
  {
   "cell_type": "markdown",
   "metadata": {},
   "source": [
    "Welcome to Familiar, a startup in the new market of blood transfusion! You've joined the team because you appreciate the flexible hours and extremely intelligent team, but the overeager doorman welcoming you into the office is a nice way to start your workday (well, work-evening).\n",
    "\n",
    "Familiar has fallen into some tough times lately, so you're hoping to help them make some insights about their product and help move the needle (so to speak).\n",
    "\n"
   ]
  },
  {
   "cell_type": "markdown",
   "metadata": {},
   "source": [
    "# What Can Familiar Do For You?\n"
   ]
  },
  {
   "cell_type": "markdown",
   "metadata": {},
   "source": [
    "We're going to start by including a data interface that a previous software engineer wrote for you, it's aptly titled familiar, so just import that.\n"
   ]
  },
  {
   "cell_type": "code",
   "execution_count": 4,
   "metadata": {},
   "outputs": [],
   "source": [
    "## THIS IS FAMILIAR ##\n",
    "\n",
    "def lifespans(package):\n",
    "  if package == 'vein':\n",
    "    return [76.937674313716172, 75.993359130146814, 74.798150123540481, 74.502021471585508, 77.48888897587436, 72.142565731540429, 75.993031671911822, 76.341550480952279, 77.484755629998816, 76.532101480086695, 76.255089552764176, 77.58398316566651, 77.047370349622938, 72.874751745947108, 77.435045470028442, 77.492341410789194, 78.326720468799522, 73.343702468870674, 79.969157652363464, 74.838005833003251]\n",
    "  elif package == 'artery':\n",
    "    return [76.335370084268348, 76.923082315590619, 75.952441644877794, 74.544983480720305, 76.404504275447195, 73.079248886365761, 77.023544610529925, 74.117420420068797, 77.38650656208344, 73.044765837189928, 74.963118508661665, 73.319543019334859, 75.857401376968625, 76.152653513512547, 73.355102863226705, 73.902212564587884, 73.771211950924751, 68.314898302855781, 74.639757177753282, 78.385477308439789]\n",
    "  else:\n",
    "    print (\"Package not found. Possible values 'vein' or 'artery'\")\n",
    "    return None\n",
    "\n",
    "def iron_counts_for_package():\n",
    "  \"\"\"\n",
    "            vein     |  artery\n",
    "    ----+------------+------------\n",
    "     low|200 * 0.7   |145 * 0.2\n",
    "  normal|200 * 0.2   |145 * 0.2\n",
    "    high|200 * 0.1   |145 * 0.6\n",
    "  \"\"\"\n",
    "  return [[140, 29],\n",
    "          [40, 87],\n",
    "          [20, 29]]\n"
   ]
  },
  {
   "cell_type": "markdown",
   "metadata": {},
   "source": [
    "\n",
    "Perfect, now the first thing we want to show is that our most basic package, the Vein Pack, actually has a significant impact on the subscribers. It would be a marketing goldmine if we can show that subscribers to the Vein Pack live longer than other people.\n",
    "\n",
    "Lifespans of Vein Pack users are returned by the function lifespans(package='vein'), which is part of the familiar module. Call that function and save the data into a variable called vein_pack_lifespans."
   ]
  },
  {
   "cell_type": "code",
   "execution_count": 5,
   "metadata": {},
   "outputs": [],
   "source": [
    "vein_pack_lifespans = lifespans('vein')"
   ]
  },
  {
   "cell_type": "markdown",
   "metadata": {},
   "source": [
    "We'd like to find out if the average lifespan of a Vein Pack subscriber is significantly different from the average life expectancy of 71 years.\n",
    "\n",
    "Import the statistical test we would use to determine if a sample comes from a population that has a given mean from scipy.stats."
   ]
  },
  {
   "cell_type": "code",
   "execution_count": 6,
   "metadata": {},
   "outputs": [],
   "source": [
    "from scipy.stats import ttest_1samp"
   ]
  },
  {
   "cell_type": "code",
   "execution_count": 3,
   "metadata": {},
   "outputs": [],
   "source": [
    "from matplotlib import pyplot as plt\n",
    "import numpy as np\n",
    "import matplotlib.mlab as mlab\n",
    "import math"
   ]
  },
  {
   "cell_type": "code",
   "execution_count": 5,
   "metadata": {},
   "outputs": [
    {
     "name": "stderr",
     "output_type": "stream",
     "text": [
      "C:\\Users\\User\\Anaconda3\\lib\\site-packages\\ipykernel_launcher.py:5: MatplotlibDeprecationWarning: scipy.stats.norm.pdf\n",
      "  \"\"\"\n"
     ]
    },
    {
     "data": {
      "image/png": "[encoded data removed]",
      "text/plain": [
       "<Figure size 432x288 with 1 Axes>"
      ]
     },
     "metadata": {},
     "output_type": "display_data"
    }
   ],
   "source": [
    "mu = 400\n",
    "variance = 10\n",
    "sigma = math.sqrt(variance)\n",
    "x = np.linspace(mu - 3*sigma, mu + 3*sigma, 100)\n",
    "plt.plot(x,mlab.normpdf(x, mu, sigma))\n",
    "plt.show()"
   ]
  },
  {
   "cell_type": "code",
   "execution_count": null,
   "metadata": {},
   "outputs": [],
   "source": []
  }
 ],
 "metadata": {
  "kernelspec": {
   "display_name": "Python 3",
   "language": "python",
   "name": "python3"
  },
  "language_info": {
   "codemirror_mode": {
    "name": "ipython",
    "version": 3
   },
   "file_extension": ".py",
   "mimetype": "text/x-python",
   "name": "python",
   "nbconvert_exporter": "python",
   "pygments_lexer": "ipython3",
   "version": "3.6.5"
  }
 },
 "nbformat": 4,
 "nbformat_minor": 2
}
